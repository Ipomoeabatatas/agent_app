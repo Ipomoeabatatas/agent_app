{
 "cells": [
  {
   "cell_type": "code",
   "execution_count": 1,
   "metadata": {},
   "outputs": [
    {
     "ename": "ImportError",
     "evalue": "cannot import name 'VectorStoreIndex' from 'llama_index' (unknown location)",
     "output_type": "error",
     "traceback": [
      "\u001b[0;31m---------------------------------------------------------------------------\u001b[0m",
      "\u001b[0;31mImportError\u001b[0m                               Traceback (most recent call last)",
      "Cell \u001b[0;32mIn[1], line 1\u001b[0m\n\u001b[0;32m----> 1\u001b[0m \u001b[38;5;28;01mfrom\u001b[39;00m\u001b[38;5;250m \u001b[39m\u001b[38;5;21;01mllama_index\u001b[39;00m\u001b[38;5;250m \u001b[39m\u001b[38;5;28;01mimport\u001b[39;00m VectorStoreIndex, Settings\n\u001b[1;32m      2\u001b[0m \u001b[38;5;28;01mfrom\u001b[39;00m\u001b[38;5;250m \u001b[39m\u001b[38;5;21;01mllama_index\u001b[39;00m\u001b[38;5;21;01m.\u001b[39;00m\u001b[38;5;21;01mvector_stores\u001b[39;00m\u001b[38;5;21;01m.\u001b[39;00m\u001b[38;5;21;01mmilvus\u001b[39;00m\u001b[38;5;250m \u001b[39m\u001b[38;5;28;01mimport\u001b[39;00m MilvusVectorStore\n\u001b[1;32m      3\u001b[0m \u001b[38;5;28;01mfrom\u001b[39;00m\u001b[38;5;250m \u001b[39m\u001b[38;5;21;01mpymilvus\u001b[39;00m\u001b[38;5;250m \u001b[39m\u001b[38;5;28;01mimport\u001b[39;00m connections\n",
      "\u001b[0;31mImportError\u001b[0m: cannot import name 'VectorStoreIndex' from 'llama_index' (unknown location)"
     ]
    }
   ],
   "source": [
    "from llama_index import VectorStoreIndex, Settings\n",
    "from llama_index.vector_stores.milvus import MilvusVectorStore\n",
    "from pymilvus import connections\n",
    "from utils.config_loader import app_config\n",
    "\n",
    "\n",
    "# Access appplication environment variables\n",
    "model = app_config.LLAMAINDEX_MODEL\n",
    "embed_model= app_config.LLAMAINDEX_EMBEDDING\n",
    "\n",
    "# define global Setting that sets the LLM and ebemdding model.\n",
    "# There is no need to pass in any llm or embedding model to the LlamaIndexTool query engine.\n",
    "# The LlamaIndexTool will use the global Settings to get the llm and embedding model.\n",
    "Settings.llm = OpenAI(temperature=0.1, model=model)\n",
    "Settings.embed_model = OpenAIEmbedding(model=embed_model)\n",
    "\n",
    "\n",
    "# Connect to Milvus\n",
    "connections.connect(\n",
    "    alias=\"default\",\n",
    "    host= app_config.MILVUS_URL,  # Change to your Milvus host\n",
    "    #port=\"19530\"       # Default Milvus port\n",
    ")\n",
    "\n"
   ]
  },
  {
   "cell_type": "code",
   "execution_count": null,
   "metadata": {},
   "outputs": [],
   "source": [
    "# Initialize Milvus vector store\n",
    "milvus_store = MilvusVectorStore(collection_name=\"my_collection\")\n",
    "\n",
    "# Load existing index from Milvus\n",
    "index = VectorStoreIndex.from_vector_store(milvus_store)\n",
    "\n",
    "# Query the index\n",
    "query_engine = index.as_query_engine()\n",
    "response = query_engine.query(\"What is the capital of France?\")\n",
    "print(response)\n"
   ]
  }
 ],
 "metadata": {
  "kernelspec": {
   "display_name": "Python 3 (ipykernel)",
   "language": "python",
   "name": "python3"
  },
  "language_info": {
   "codemirror_mode": {
    "name": "ipython",
    "version": 3
   },
   "file_extension": ".py",
   "mimetype": "text/x-python",
   "name": "python",
   "nbconvert_exporter": "python",
   "pygments_lexer": "ipython3",
   "version": "3.10.0"
  }
 },
 "nbformat": 4,
 "nbformat_minor": 2
}
