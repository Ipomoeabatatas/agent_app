{
 "cells": [
  {
   "cell_type": "code",
   "execution_count": 13,
   "metadata": {},
   "outputs": [],
   "source": [
    "\n",
    "from pathlib import Path\n",
    "import os\n",
    "import tomli\n",
    "\n",
    "def load_config(config_file):\n",
    "    \"\"\"\n",
    "    Load the configuration from a TOML file.\n",
    "\n",
    "    Parameters:\n",
    "    config_file (str): The path to the TOML configuration file.\n",
    "\n",
    "    Returns:\n",
    "    dict: The configuration dictionary if the file is found and loaded successfully.\n",
    "    None: If the file is not found or an error occurs during loading.\n",
    "    \"\"\"\n",
    "    if not os.path.exists(config_file):\n",
    "        print(f\"config file << {config_file} >> not found!\")\n",
    "        return None\n",
    "    else:\n",
    "        print(f\"config file << {config_file} >> found.\")\n",
    "    \n",
    "    try:\n",
    "        with open(config_file, mode=\"rb\") as fp:\n",
    "            config = tomli.load(fp)\n",
    "        return config\n",
    "    except Exception as e:\n",
    "        print(f\"Failed to load TOML file: {e}\")\n",
    "        return None\n"
   ]
  },
  {
   "cell_type": "code",
   "execution_count": 15,
   "metadata": {},
   "outputs": [
    {
     "name": "stdout",
     "output_type": "stream",
     "text": [
      "config file << C:/Users/tan_poh_keam/OneDrive - Republic Polytechnic/1. Projects/UBTS/msg_app/config/app_config.toml >> found.\n",
      "App Home: C:/Users/tan_poh_keam/OneDrive - Republic Polytechnic/1. Projects/UBTS/msg_app\n",
      "Log Directory: C:/Users/tan_poh_keam/OneDrive - Republic Polytechnic/1. Projects/UBTS/msg_app/logs\n",
      "Output Directory: C:/Users/tan_poh_keam/OneDrive - Republic Polytechnic/1. Projects/UBTS/msg_app/outputs\n",
      "Secret Directory: C:/Users/tan_poh_keam/OneDrive - Republic Polytechnic/1. Projects/UBTS/msg_app/secrets\n",
      "credentials.json\n",
      "token.json\n",
      "token.pickle\n"
     ]
    }
   ],
   "source": [
    "# Build paths relative to app_home\n",
    "\n",
    "if __name__ == \"__main__\":\n",
    "    # Example usage\n",
    "    app_config_file = \"C:/Users/tan_poh_keam/OneDrive - Republic Polytechnic/1. Projects/UBTS/msg_app/config/app_config.toml\"\n",
    "\n",
    "    config = load_config(app_config_file)\n",
    "    app_home = config[\"app\"][\"app_home\"]\n",
    "    logs = config[\"folders\"][\"logs\"]\n",
    "    outputs = config[\"folders\"][\"outputs\"]\n",
    "    secrets = config[\"folders\"][\"secrets\"]\n",
    "\n",
    "    # Example usage\n",
    "    print(f\"App Home: {app_home}\")\n",
    "    print(f\"Log Directory: {logs}\")\n",
    "    print(f\"Output Directory: {outputs}\")\n",
    "    print(f\"Secret Directory: {secrets}\")\n",
    "\n",
    "    # list files in logs directory\n",
    "    for file in os.listdir(secrets):\n",
    "        print(file)\n"
   ]
  },
  {
   "cell_type": "code",
   "execution_count": null,
   "metadata": {},
   "outputs": [],
   "source": []
  },
  {
   "cell_type": "code",
   "execution_count": null,
   "metadata": {},
   "outputs": [],
   "source": []
  }
 ],
 "metadata": {
  "kernelspec": {
   "display_name": "ubts",
   "language": "python",
   "name": "python3"
  },
  "language_info": {
   "codemirror_mode": {
    "name": "ipython",
    "version": 3
   },
   "file_extension": ".py",
   "mimetype": "text/x-python",
   "name": "python",
   "nbconvert_exporter": "python",
   "pygments_lexer": "ipython3",
   "version": "3.10.0"
  }
 },
 "nbformat": 4,
 "nbformat_minor": 2
}
