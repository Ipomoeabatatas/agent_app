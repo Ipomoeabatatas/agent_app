{
 "cells": [
  {
   "cell_type": "code",
   "execution_count": 6,
   "metadata": {},
   "outputs": [],
   "source": [
    "# Get the absolute path to the src directory.\n",
    "# must do this to import modules from the src directory\n",
    "import sys\n",
    "import os\n",
    "# sys.path.append(os.path.abspath(\"../src\"))  # Linux\n",
    "#sys.path.append(os.path.abspath(\"..\\src\"))  # Windows\n",
    "\n",
    "# Get the absolute path to src\n",
    "PROJECT_ROOT = os.path.abspath(\"..\")  # Adjust based on your structure\n",
    "SRC_PATH = os.path.join(PROJECT_ROOT, \"src\")\n",
    "\n",
    "if SRC_PATH not in sys.path:\n",
    "    sys.path.append(SRC_PATH)\n",
    "    print(f\"📌 Added {SRC_PATH} to sys.path\")\n",
    "    \n",
    "if PROJECT_ROOT not in sys.path:\n",
    "    sys.path.append(PROJECT_ROOT)\n",
    "    print(f\"📌 Added {PROJECT_ROOT} to sys.path\")"
   ]
  },
  {
   "cell_type": "code",
   "execution_count": 7,
   "metadata": {},
   "outputs": [],
   "source": [
    "# Standard Library Imports\n",
    "import os\n",
    "import base64\n",
    "import pickle\n",
    "import re \n",
    "\n",
    "\n",
    "# Third-Party Library Imports\n",
    "from langchain.agents.agent_toolkits import GmailToolkit\n",
    "from IPython.display import JSON\n",
    "from langchain_community.tools.gmail.utils import (\n",
    "    build_resource_service,\n",
    "    get_gmail_credentials,\n",
    ")\n"
   ]
  },
  {
   "cell_type": "code",
   "execution_count": null,
   "metadata": {},
   "outputs": [
    {
     "name": "stdout",
     "output_type": "stream",
     "text": [
      "TOML file found.\n"
     ]
    }
   ],
   "source": [
    "# Get crediential paths from TOML file\n",
    "import tomli\n",
    "\n",
    "app_config_file = \"C:/Users/tan_poh_keam/OneDrive - Republic Polytechnic/1. Projects/UBTS/msg_app/config/app_config.toml\"\n",
    "if not os.path.exists(app_config_file):\n",
    "    print(\"TOML file not found!\")\n",
    "else:\n",
    "    print(\"TOML file found.\")\n",
    "    \n",
    "with open(app_config_file, mode=\"rb\") as fp:\n",
    "     config = tomli.load(fp)\n",
    "\n",
    "token_file = config[\"gmail\"][\"token_file\"]\n",
    "scopes = config[\"gmail\"][\"scopes\"]\n",
    "client_secrets_file = config[\"gmail\"][\"client_secrets_file\"]\n",
    "\n"
   ]
  },
  {
   "cell_type": "code",
   "execution_count": null,
   "metadata": {},
   "outputs": [],
   "source": [
    "# Create Gmail API resource\n",
    "\n",
    "\n",
    "# Can review scopes here https://developers.google.com/gmail/api/auth/scopes\n",
    "# For instance, readonly scope is 'https://www.googleapis.com/auth/gmail.readonly'\n",
    "\n",
    "credentials = get_gmail_credentials(\n",
    "    token_file=token_file,\n",
    "    scopes=scopes,\n",
    "    client_secrets_file=client_secrets_file,\n",
    ")\n",
    "api_resource = build_resource_service(credentials=credentials)\n",
    "toolkit = GmailToolkit(api_resource=api_resource)\n",
    "\n",
    "#toolkit = GmailToolkit()\n",
    "#api_resource = toolkit.api_resource  # The Gmail API client\n",
    "#api_resource"
   ]
  },
  {
   "cell_type": "code",
   "execution_count": null,
   "metadata": {},
   "outputs": [],
   "source": []
  },
  {
   "cell_type": "code",
   "execution_count": 15,
   "metadata": {},
   "outputs": [
    {
     "data": {
      "text/plain": [
       "[GmailCreateDraft(api_resource=<googleapiclient.discovery.Resource object at 0x00000264B4339FF0>),\n",
       " GmailSendMessage(api_resource=<googleapiclient.discovery.Resource object at 0x00000264B4339FF0>),\n",
       " GmailSearch(api_resource=<googleapiclient.discovery.Resource object at 0x00000264B4339FF0>),\n",
       " GmailGetMessage(api_resource=<googleapiclient.discovery.Resource object at 0x00000264B4339FF0>),\n",
       " GmailGetThread(api_resource=<googleapiclient.discovery.Resource object at 0x00000264B4339FF0>)]"
      ]
     },
     "execution_count": 15,
     "metadata": {},
     "output_type": "execute_result"
    }
   ],
   "source": [
    "toolkit.get_tools()"
   ]
  },
  {
   "cell_type": "code",
   "execution_count": 16,
   "metadata": {},
   "outputs": [],
   "source": [
    "createdraft_tool = toolkit.get_tools()[0]\n",
    "sendmessage_tool   = toolkit.get_tools()[1]\n",
    "search_tool = toolkit.get_tools()[2]\n",
    "getmessage_tool = toolkit.get_tools()[3]\n",
    "getthread_tool = toolkit.get_tools()[4]"
   ]
  },
  {
   "cell_type": "code",
   "execution_count": 17,
   "metadata": {},
   "outputs": [],
   "source": [
    "## variables\n",
    "email_id = '19503e0b13144209'\n",
    "message_id = '19503e0b13144209'\n",
    "thread_id = '19503e0b13144209'\n",
    "query = \"is:unread in:inbox\"\n",
    "query = \"F45451345A\""
   ]
  },
  {
   "cell_type": "code",
   "execution_count": 18,
   "metadata": {},
   "outputs": [
    {
     "data": {
      "text/plain": [
       "'Draft created. Draft Id: r-2835419043773493702'"
      ]
     },
     "execution_count": 18,
     "metadata": {},
     "output_type": "execute_result"
    }
   ],
   "source": [
    "# Example: Create draft tool\n",
    "# Example: \n",
    "\n",
    "draft_payload = {\n",
    "                \"to\": [\"tan_poh_keam@rp.edu.sg\"],\n",
    "                \"cc\": [\"pohkeam@gmail.com\", \"pohkeam@outlook.com\"],\n",
    "                \"subject\": \"Re: \" + \"Order Confirmation\",\n",
    "                \"message\": \"hello from Tinkpad\"\n",
    "            }\n",
    "        \n",
    "result = createdraft_tool.run(draft_payload)\n",
    "result"
   ]
  },
  {
   "cell_type": "code",
   "execution_count": null,
   "metadata": {},
   "outputs": [],
   "source": [
    "# Example: Search tool\n",
    "# Example: Find emails with query \"'is:unread in:inbox'\"\n",
    "\n",
    "\n",
    "search_results = search_tool(query)\n",
    "search_results"
   ]
  },
  {
   "cell_type": "code",
   "execution_count": null,
   "metadata": {},
   "outputs": [],
   "source": [
    "# Example: Get Message Thread\n",
    "# Example: Fetch a specific email thread using thread ID\n",
    "\n",
    "message_id = '195040f7d5667395'\n",
    "msg = getmessage_tool.run(message_id)\n",
    "msg\n",
    "JSON(msg)"
   ]
  },
  {
   "cell_type": "code",
   "execution_count": null,
   "metadata": {},
   "outputs": [],
   "source": [
    "# Example: Fetch a specific email thread using thread ID\n",
    "#thread_id = \"194cb145c5ca9a75\"  # Replace with an actual thread ID\n",
    "thread_data = getthread_tool.run(thread_id)\n",
    "thread_data\n",
    "JSON(thread_data)"
   ]
  }
 ],
 "metadata": {
  "kernelspec": {
   "display_name": "ubts",
   "language": "python",
   "name": "python3"
  },
  "language_info": {
   "codemirror_mode": {
    "name": "ipython",
    "version": 3
   },
   "file_extension": ".py",
   "mimetype": "text/x-python",
   "name": "python",
   "nbconvert_exporter": "python",
   "pygments_lexer": "ipython3",
   "version": "3.10.0"
  }
 },
 "nbformat": 4,
 "nbformat_minor": 2
}
