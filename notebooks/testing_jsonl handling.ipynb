{
 "cells": [
  {
   "cell_type": "code",
   "execution_count": 3,
   "metadata": {},
   "outputs": [],
   "source": [
    "import os\n",
    "import json\n",
    "\n",
    "def rename_subdirectories(base_dir, suffix=\"-exported\"):\n",
    "    \"\"\"Rename immediate subdirectories to end with the specified suffix (default is '-exported').\"\"\"\n",
    "    with os.scandir(base_dir) as entries:\n",
    "        for entry in entries:\n",
    "            if entry.is_dir() and not entry.name.endswith(suffix):\n",
    "                target_path = f\"{entry.path}{suffix}\"\n",
    "                if not os.path.exists(target_path):\n",
    "                    os.rename(entry.path, target_path)\n",
    "                else:\n",
    "                    print(f\"Skipping rename for {entry.path} as {target_path} already exists.\")\n",
    "\n",
    "def extract_valid_jsonl(base_dir, suffix=\"-exported\"):\n",
    "    \"\"\"Extract valid JSON lines from .jsonl files in subdirectories not ending with the specified suffix.\"\"\"\n",
    "    valid_jsons = []\n",
    "    with os.scandir(base_dir) as entries:\n",
    "        for entry in entries:\n",
    "            if entry.is_dir() and not entry.name.endswith(suffix):\n",
    "                for file in os.scandir(entry.path):\n",
    "                    if file.is_file() and file.name.endswith(\".jsonl\"):\n",
    "                        try:\n",
    "                            with open(file.path, 'r', encoding='utf-8') as f:\n",
    "                                valid_jsons.extend(\n",
    "                                    json_obj for line in filter(None, map(str.strip, f))\n",
    "                                    if (json_obj := json.loads(line)) and isinstance(json_obj, dict)\n",
    "                                )\n",
    "                        except (OSError, json.JSONDecodeError) as e:\n",
    "                            print(f\"Error processing {file.path}: {e}   Not a valid JSON line - SKipping\")\n",
    "    return valid_jsons\n"
   ]
  },
  {
   "cell_type": "code",
   "execution_count": 5,
   "metadata": {},
   "outputs": [
    {
     "name": "stdout",
     "output_type": "stream",
     "text": [
      "Error processing C:\\Users\\tan_poh_keam\\OneDrive - Republic Polytechnic\\1. Projects\\UBTS\\msg_app\\outputs\\crew - Copy\\20250228_141548\\email_drafting_task.jsonl: Expecting value: line 1 column 1 (char 0)   Not a valid JSON line - SKipping\n",
      "Error processing C:\\Users\\tan_poh_keam\\OneDrive - Republic Polytechnic\\1. Projects\\UBTS\\msg_app\\outputs\\crew - Copy\\20250228_151759\\email_drafting_task.jsonl: Expecting value: line 1 column 1 (char 0)   Not a valid JSON line - SKipping\n",
      "Error processing C:\\Users\\tan_poh_keam\\OneDrive - Republic Polytechnic\\1. Projects\\UBTS\\msg_app\\outputs\\crew - Copy\\20250228_152101\\email_drafting_task.jsonl: Expecting value: line 1 column 1 (char 0)   Not a valid JSON line - SKipping\n",
      "Error processing C:\\Users\\tan_poh_keam\\OneDrive - Republic Polytechnic\\1. Projects\\UBTS\\msg_app\\outputs\\crew - Copy\\20250228_162142\\email_drafting_task.jsonl: Expecting value: line 1 column 1 (char 0)   Not a valid JSON line - SKipping\n",
      "Error processing C:\\Users\\tan_poh_keam\\OneDrive - Republic Polytechnic\\1. Projects\\UBTS\\msg_app\\outputs\\crew - Copy\\20250228_162824\\email_drafting_task.jsonl: Expecting value: line 1 column 1 (char 0)   Not a valid JSON line - SKipping\n",
      "Error processing C:\\Users\\tan_poh_keam\\OneDrive - Republic Polytechnic\\1. Projects\\UBTS\\msg_app\\outputs\\crew - Copy\\20250303_082810\\email_drafting_task.jsonl: Expecting value: line 1 column 1 (char 0)   Not a valid JSON line - SKipping\n",
      "Error processing C:\\Users\\tan_poh_keam\\OneDrive - Republic Polytechnic\\1. Projects\\UBTS\\msg_app\\outputs\\crew - Copy\\20250303_083209\\email_drafting_task.jsonl: Expecting value: line 1 column 1 (char 0)   Not a valid JSON line - SKipping\n",
      "Error processing C:\\Users\\tan_poh_keam\\OneDrive - Republic Polytechnic\\1. Projects\\UBTS\\msg_app\\outputs\\crew - Copy\\20250303_093826\\email_drafting_task.jsonl: Expecting value: line 1 column 1 (char 0)   Not a valid JSON line - SKipping\n",
      "Error processing C:\\Users\\tan_poh_keam\\OneDrive - Republic Polytechnic\\1. Projects\\UBTS\\msg_app\\outputs\\crew - Copy\\20250303_094647\\email_drafting_task.jsonl: Expecting value: line 1 column 1 (char 0)   Not a valid JSON line - SKipping\n",
      "{'messageId': '1954a38e5437931a', 'threadId': '1954a38e5437931a', 'bookingRef': 'KASEJKT032248', 'status': 'DraftCompleted'}\n",
      "{'messageId': '1954a38e5437931a', 'threadId': '1954a38e5437931a', 'bookingRef': 'KASEJKT032248', 'status': 'DraftCompleted'}\n",
      "{'messageId': '1954a38e5437931a', 'threadId': '1954a38e5437931a', 'bookingRef': 'KASEJKT032248', 'status': 'DraftCompleted'}\n",
      "{'messageId': '1954a38e5437931a', 'threadId': '1954a38e5437931a', 'bookingRef': 'KASEJKT032248', 'status': 'DraftCompleted'}\n",
      "{'messageId': '1954a38e5437931a', 'threadId': '1954a38e5437931a', 'bookingRef': 'KASEJKT032248', 'status': 'DraftCompleted'}\n",
      "{'messageId': '195596561dc18cf2', 'threadId': '195596561dc18cf2', 'bookingRef': 'KASEJKT032248', 'status': 'DraftCompleted'}\n",
      "{'messageId': '195596561dc18cf2', 'threadId': '195596561dc18cf2', 'bookingRef': 'KASEJKT032248', 'status': 'DraftCompleted'}\n",
      "{'messageId': '19559a6306bb4be8', 'threadId': '19559a6306bb4be8', 'bookingRef': 'KASEJKT032248', 'status': 'DraftCompleted'}\n",
      "{'messageId': '19559aee0963725c', 'threadId': '19559a6306bb4be8', 'bookingRef': 'KASEJKT032248', 'status': 'DraftCompleted'}\n"
     ]
    }
   ],
   "source": [
    "if __name__ == \"__main__\":\n",
    "    base_dir=r\"C:\\Users\\tan_poh_keam\\OneDrive - Republic Polytechnic\\1. Projects\\UBTS\\msg_app\\outputs\\crew - Copy\"\n",
    "    if os.path.isdir(base_dir):\n",
    "        valid_data = extract_valid_jsonl(base_dir=base_dir, suffix=\"-exportedxx\")  # sequence\n",
    "        rename_subdirectories(base_dir=base_dir, suffix=\"-exportedxx\")  # sequence is important\n",
    "        for item in valid_data:\n",
    "            print(item)\n",
    "    else:\n",
    "        print(f\"The directory {base_dir} does not exist.\")\n",
    "        \n",
    "        \n",
    "    "
   ]
  },
  {
   "cell_type": "code",
   "execution_count": null,
   "metadata": {},
   "outputs": [],
   "source": []
  },
  {
   "cell_type": "code",
   "execution_count": null,
   "metadata": {},
   "outputs": [],
   "source": []
  }
 ],
 "metadata": {
  "kernelspec": {
   "display_name": "ubts",
   "language": "python",
   "name": "python3"
  },
  "language_info": {
   "codemirror_mode": {
    "name": "ipython",
    "version": 3
   },
   "file_extension": ".py",
   "mimetype": "text/x-python",
   "name": "python",
   "nbconvert_exporter": "python",
   "pygments_lexer": "ipython3",
   "version": "3.10.0"
  }
 },
 "nbformat": 4,
 "nbformat_minor": 2
}
