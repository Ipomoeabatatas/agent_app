{
 "cells": [
  {
   "cell_type": "code",
   "execution_count": 37,
   "metadata": {},
   "outputs": [
    {
     "name": "stdout",
     "output_type": "stream",
     "text": [
      "collections are:  ['_emails_attachments']\n"
     ]
    }
   ],
   "source": [
    "from pymilvus import MilvusClient, DataType\n",
    "\n",
    "client = MilvusClient(\n",
    "    uri=\"http://localhost:19530\",\n",
    "    token=\"root:Milvus\"\n",
    ")\n",
    "\n",
    "res = client.list_collections()\n",
    "\n",
    "print(\"collections are: \", res)\n",
    "\n"
   ]
  },
  {
   "cell_type": "code",
   "execution_count": 39,
   "metadata": {},
   "outputs": [
    {
     "name": "stdout",
     "output_type": "stream",
     "text": [
      "{\n",
      "    \"collection_name\": \"_emails_attachments\",\n",
      "    \"auto_id\": false,\n",
      "    \"num_shards\": 1,\n",
      "    \"description\": \"\",\n",
      "    \"fields\": [\n",
      "        {\n",
      "            \"field_id\": 100,\n",
      "            \"name\": \"id\",\n",
      "            \"description\": \"\",\n",
      "            \"type\": 21,\n",
      "            \"params\": {\n",
      "                \"max_length\": 65535\n",
      "            },\n",
      "            \"is_primary\": true\n",
      "        },\n",
      "        {\n",
      "            \"field_id\": 101,\n",
      "            \"name\": \"embedding\",\n",
      "            \"description\": \"\",\n",
      "            \"type\": 101,\n",
      "            \"params\": {\n",
      "                \"dim\": 1536\n",
      "            }\n",
      "        }\n",
      "    ],\n",
      "    \"functions\": [],\n",
      "    \"aliases\": [],\n",
      "    \"collection_id\": 456790168969799483,\n",
      "    \"consistency_level\": 1,\n",
      "    \"properties\": {},\n",
      "    \"num_partitions\": 1,\n",
      "    \"enable_dynamic_field\": true,\n",
      "    \"created_timestamp\": 456887103297945609\n",
      "}\n"
     ]
    }
   ],
   "source": [
    "import json\n",
    "\n",
    "res = client.describe_collection(\n",
    "    collection_name=\"_emails_attachments\"\n",
    ")\n",
    "\n",
    "print(json.dumps(res, indent=4))\n"
   ]
  },
  {
   "cell_type": "code",
   "execution_count": 2,
   "metadata": {},
   "outputs": [],
   "source": [
    "from utils.config_loader import app_config\n",
    "from llama_index.core import Settings\n",
    "from llama_index.llms.openai import OpenAI\n",
    "from llama_index.embeddings.openai import OpenAIEmbedding\n",
    "\n",
    "from llama_index.core import SimpleDirectoryReader, VectorStoreIndex, StorageContext\n",
    "from llama_index.vector_stores.milvus import MilvusVectorStore"
   ]
  },
  {
   "cell_type": "code",
   "execution_count": 3,
   "metadata": {},
   "outputs": [
    {
     "name": "stderr",
     "output_type": "stream",
     "text": [
      "2025-03-25 15:30:54,865 [DEBUG][_create_connection]: Created new connection using: 786593bf3c994c6f926a177dbc05a73e (async_milvus_client.py:600)\n"
     ]
    }
   ],
   "source": [
    "# 1. Connect to Milvus\n",
    "milvus_store = MilvusVectorStore(\n",
    "    uri=app_config.MILVUS_URL,\n",
    "    dim=app_config.MILVUS_DIM,\n",
    "    overwrite= False,\n",
    "    collection_name=\"_emails_attachments\"\n",
    ")"
   ]
  },
  {
   "cell_type": "markdown",
   "metadata": {},
   "source": [
    "### Example 1: Using LlamaIndex to query the vector store"
   ]
  },
  {
   "cell_type": "code",
   "execution_count": 4,
   "metadata": {},
   "outputs": [],
   "source": [
    "## Step 1: Prepare global settings\n",
    "\n",
    "# Access appplication environment variables\n",
    "model = app_config.LLAMAINDEX_MODEL\n",
    "embed_model= app_config.LLAMAINDEX_EMBEDDING\n",
    "\n",
    "# define global Setting that sets the LLM and ebemdding model.\n",
    "# There is no need to pass in any llm or embedding model to the LlamaIndexTool query engine.\n",
    "# The LlamaIndexTool will use the global Settings to get the llm and embedding model.\n",
    "Settings.llm = OpenAI(temperature=0.1, model=model)\n",
    "Settings.embed_model = OpenAIEmbedding(model=embed_model)"
   ]
  },
  {
   "cell_type": "code",
   "execution_count": 5,
   "metadata": {},
   "outputs": [],
   "source": [
    "# Step 2: Load index from existing Milvus vector store\n",
    "index = VectorStoreIndex.from_vector_store(\n",
    "    vector_store=milvus_store\n",
    ")"
   ]
  },
  {
   "cell_type": "code",
   "execution_count": 6,
   "metadata": {},
   "outputs": [],
   "source": [
    "# Step 3. Create the query and chat engine using the LLM\n",
    "query_engine = index.as_query_engine()  # no parameter needed, taken care off by the global Settings\n",
    "chat_engine = index.as_chat_engine()\n"
   ]
  },
  {
   "cell_type": "code",
   "execution_count": 8,
   "metadata": {},
   "outputs": [
    {
     "name": "stdout",
     "output_type": "stream",
     "text": [
      "The packing list for the order for the customer 'PT Interindo Kharisma' includes the following details: The destination terminal is associated with the booking reference '726'. The ready date and stuffing date are not specified in the provided information.\n"
     ]
    }
   ],
   "source": [
    "\n",
    "# Step 4A. Run your query\n",
    "response = query_engine.query(\"summarise the packinglist for order for customer ' PT Interindo Kharisma ' \")\n",
    "print(response)"
   ]
  },
  {
   "cell_type": "code",
   "execution_count": 7,
   "metadata": {},
   "outputs": [
    {
     "name": "stdout",
     "output_type": "stream",
     "text": [
      "The meta-data for shipID includes \"Qty/20'\", \"Vessel\", \"VOYAGE\", \"ETA SIN\", \"ETA UTC1\", \"Destination Terminal\", \"Booking Ref\", \"Ready Date\", and \"Stuffing Date\".\n"
     ]
    }
   ],
   "source": [
    "response = query_engine.query(\"what are the meta-data for shipID?\")\n",
    "print(response)"
   ]
  },
  {
   "cell_type": "code",
   "execution_count": 8,
   "metadata": {},
   "outputs": [
    {
     "name": "stdout",
     "output_type": "stream",
     "text": [
      "The owner of shipment 2230500347 is UBTS TECHNOLOGIES PTE LTD.\n"
     ]
    }
   ],
   "source": [
    "# Step 4B. Run your  cchat\n",
    "response = chat_engine.chat(\"who is the owner fro shipment 2230500347?\")\n",
    "print(response)"
   ]
  },
  {
   "cell_type": "code",
   "execution_count": 9,
   "metadata": {},
   "outputs": [
    {
     "name": "stdout",
     "output_type": "stream",
     "text": [
      "The shipment with reference number 2230500347 contains 1 package with a weight of 5131.860 kg and a volume of 50.000 m³. It is transported in a 40 GP container with the seal number PM00113420.\n"
     ]
    }
   ],
   "source": [
    "# Step 4B. Run your  cchat\n",
    "response = chat_engine.chat(\"what is inside of it?\")\n",
    "print(response)"
   ]
  },
  {
   "cell_type": "code",
   "execution_count": null,
   "metadata": {},
   "outputs": [
    {
     "ename": "ConnectionNotExistException",
     "evalue": "<ConnectionNotExistException: (code=1, message=should create connection first.)>",
     "output_type": "error",
     "traceback": [
      "\u001b[0;31m---------------------------------------------------------------------------\u001b[0m",
      "\u001b[0;31mConnectionNotExistException\u001b[0m               Traceback (most recent call last)",
      "Cell \u001b[0;32mIn[9], line 4\u001b[0m\n\u001b[1;32m      1\u001b[0m \u001b[38;5;28;01mfrom\u001b[39;00m\u001b[38;5;250m \u001b[39m\u001b[38;5;21;01mpymilvus\u001b[39;00m\u001b[38;5;250m \u001b[39m\u001b[38;5;28;01mimport\u001b[39;00m Collection\n\u001b[1;32m      3\u001b[0m \u001b[38;5;66;03m# Connect to Milvus first (adjust host and port as needed)\u001b[39;00m\n\u001b[0;32m----> 4\u001b[0m collection \u001b[38;5;241m=\u001b[39m \u001b[43mCollection\u001b[49m\u001b[43m(\u001b[49m\u001b[38;5;124;43m\"\u001b[39;49m\u001b[38;5;124;43m_emails_attachments\u001b[39;49m\u001b[38;5;124;43m\"\u001b[39;49m\u001b[43m)\u001b[49m\n\u001b[1;32m      6\u001b[0m \u001b[38;5;66;03m# Query all metadata entries (limit to a few for performance)\u001b[39;00m\n\u001b[1;32m      7\u001b[0m results \u001b[38;5;241m=\u001b[39m collection\u001b[38;5;241m.\u001b[39mquery(\n\u001b[1;32m      8\u001b[0m     expr\u001b[38;5;241m=\u001b[39m\u001b[38;5;28;01mNone\u001b[39;00m,  \u001b[38;5;66;03m# No filtering, get all rows\u001b[39;00m\n\u001b[1;32m      9\u001b[0m     output_fields\u001b[38;5;241m=\u001b[39m[\u001b[38;5;124m\"\u001b[39m\u001b[38;5;124mid\u001b[39m\u001b[38;5;124m\"\u001b[39m, \u001b[38;5;124m\"\u001b[39m\u001b[38;5;124m$meta\u001b[39m\u001b[38;5;124m\"\u001b[39m],\n\u001b[1;32m     10\u001b[0m     limit\u001b[38;5;241m=\u001b[39m\u001b[38;5;241m10\u001b[39m\n\u001b[1;32m     11\u001b[0m )\n",
      "File \u001b[0;32m~/anaconda3/envs/ubts/lib/python3.10/site-packages/pymilvus/orm/collection.py:116\u001b[0m, in \u001b[0;36mCollection.__init__\u001b[0;34m(self, name, schema, using, **kwargs)\u001b[0m\n\u001b[1;32m    114\u001b[0m \u001b[38;5;28mself\u001b[39m\u001b[38;5;241m.\u001b[39m_kwargs \u001b[38;5;241m=\u001b[39m kwargs\n\u001b[1;32m    115\u001b[0m \u001b[38;5;28mself\u001b[39m\u001b[38;5;241m.\u001b[39m_num_shards \u001b[38;5;241m=\u001b[39m \u001b[38;5;28;01mNone\u001b[39;00m\n\u001b[0;32m--> 116\u001b[0m conn \u001b[38;5;241m=\u001b[39m \u001b[38;5;28;43mself\u001b[39;49m\u001b[38;5;241;43m.\u001b[39;49m\u001b[43m_get_connection\u001b[49m\u001b[43m(\u001b[49m\u001b[43m)\u001b[49m\n\u001b[1;32m    118\u001b[0m has \u001b[38;5;241m=\u001b[39m conn\u001b[38;5;241m.\u001b[39mhas_collection(\u001b[38;5;28mself\u001b[39m\u001b[38;5;241m.\u001b[39m_name, \u001b[38;5;241m*\u001b[39m\u001b[38;5;241m*\u001b[39mkwargs)\n\u001b[1;32m    119\u001b[0m \u001b[38;5;28;01mif\u001b[39;00m has:\n",
      "File \u001b[0;32m~/anaconda3/envs/ubts/lib/python3.10/site-packages/pymilvus/orm/collection.py:172\u001b[0m, in \u001b[0;36mCollection._get_connection\u001b[0;34m(self)\u001b[0m\n\u001b[1;32m    171\u001b[0m \u001b[38;5;28;01mdef\u001b[39;00m\u001b[38;5;250m \u001b[39m\u001b[38;5;21m_get_connection\u001b[39m(\u001b[38;5;28mself\u001b[39m):\n\u001b[0;32m--> 172\u001b[0m     \u001b[38;5;28;01mreturn\u001b[39;00m \u001b[43mconnections\u001b[49m\u001b[38;5;241;43m.\u001b[39;49m\u001b[43m_fetch_handler\u001b[49m\u001b[43m(\u001b[49m\u001b[38;5;28;43mself\u001b[39;49m\u001b[38;5;241;43m.\u001b[39;49m\u001b[43m_using\u001b[49m\u001b[43m)\u001b[49m\n",
      "File \u001b[0;32m~/anaconda3/envs/ubts/lib/python3.10/site-packages/pymilvus/orm/connections.py:554\u001b[0m, in \u001b[0;36mConnections._fetch_handler\u001b[0;34m(self, alias)\u001b[0m\n\u001b[1;32m    552\u001b[0m conn \u001b[38;5;241m=\u001b[39m \u001b[38;5;28mself\u001b[39m\u001b[38;5;241m.\u001b[39m_connected_alias\u001b[38;5;241m.\u001b[39mget(alias, \u001b[38;5;28;01mNone\u001b[39;00m)\n\u001b[1;32m    553\u001b[0m \u001b[38;5;28;01mif\u001b[39;00m conn \u001b[38;5;129;01mis\u001b[39;00m \u001b[38;5;28;01mNone\u001b[39;00m:\n\u001b[0;32m--> 554\u001b[0m     \u001b[38;5;28;01mraise\u001b[39;00m ConnectionNotExistException(message\u001b[38;5;241m=\u001b[39mExceptionsMessage\u001b[38;5;241m.\u001b[39mConnectFirst)\n\u001b[1;32m    556\u001b[0m \u001b[38;5;28;01mreturn\u001b[39;00m conn\n",
      "\u001b[0;31mConnectionNotExistException\u001b[0m: <ConnectionNotExistException: (code=1, message=should create connection first.)>"
     ]
    }
   ],
   "source": [
    "from pymilvus import Collection\n",
    "from pymilvus import connections\n",
    "\n",
    "\n",
    "\n",
    "# Connect to Milvus first (adjust host and port as needed)\n",
    "collection = Collection(\"_emails_attachments\")\n",
    "\n",
    "# Query all metadata entries (limit to a few for performance)\n",
    "results = collection.query(\n",
    "    expr=None,  # No filtering, get all rows\n",
    "    output_fields=[\"id\", \"$meta\"],\n",
    "    limit=10\n",
    ")\n",
    "\n",
    "# Print results\n",
    "for r in results:\n",
    "    print(r[\"id\"], r[\"$meta\"])\n"
   ]
  }
 ],
 "metadata": {
  "kernelspec": {
   "display_name": "Python 3 (ipykernel)",
   "language": "python",
   "name": "python3"
  },
  "language_info": {
   "codemirror_mode": {
    "name": "ipython",
    "version": 3
   },
   "file_extension": ".py",
   "mimetype": "text/x-python",
   "name": "python",
   "nbconvert_exporter": "python",
   "pygments_lexer": "ipython3",
   "version": "3.10.0"
  }
 },
 "nbformat": 4,
 "nbformat_minor": 2
}
