{
 "cells": [
  {
   "cell_type": "code",
   "execution_count": 1,
   "metadata": {},
   "outputs": [
    {
     "name": "stdout",
     "output_type": "stream",
     "text": [
      "collections are:  ['_emails_attachments']\n"
     ]
    }
   ],
   "source": [
    "from pymilvus import MilvusClient, DataType\n",
    "\n",
    "client = MilvusClient(\n",
    "    uri=\"http://localhost:19530\",\n",
    "    token=\"root:Milvus\"\n",
    ")\n",
    "\n",
    "res = client.list_collections()\n",
    "\n",
    "print(\"collections are: \", res)\n",
    "\n"
   ]
  },
  {
   "cell_type": "code",
   "execution_count": 3,
   "metadata": {},
   "outputs": [
    {
     "name": "stdout",
     "output_type": "stream",
     "text": [
      "{\n",
      "    \"collection_name\": \"_emails_attachments\",\n",
      "    \"auto_id\": false,\n",
      "    \"num_shards\": 1,\n",
      "    \"description\": \"\",\n",
      "    \"fields\": [\n",
      "        {\n",
      "            \"field_id\": 100,\n",
      "            \"name\": \"id\",\n",
      "            \"description\": \"\",\n",
      "            \"type\": 21,\n",
      "            \"params\": {\n",
      "                \"max_length\": 65535\n",
      "            },\n",
      "            \"is_primary\": true\n",
      "        },\n",
      "        {\n",
      "            \"field_id\": 101,\n",
      "            \"name\": \"embedding\",\n",
      "            \"description\": \"\",\n",
      "            \"type\": 101,\n",
      "            \"params\": {\n",
      "                \"dim\": 1536\n",
      "            }\n",
      "        }\n",
      "    ],\n",
      "    \"functions\": [],\n",
      "    \"aliases\": [],\n",
      "    \"collection_id\": 456905014728701700,\n",
      "    \"consistency_level\": 1,\n",
      "    \"properties\": {},\n",
      "    \"num_partitions\": 1,\n",
      "    \"enable_dynamic_field\": true,\n",
      "    \"created_timestamp\": 456926605253804039\n",
      "}\n"
     ]
    }
   ],
   "source": [
    "import json\n",
    "\n",
    "res = client.describe_collection(\n",
    "    collection_name=\"_emails_attachments\"\n",
    ")\n",
    "\n",
    "print(json.dumps(res, indent=4))\n"
   ]
  },
  {
   "cell_type": "code",
   "execution_count": 4,
   "metadata": {},
   "outputs": [],
   "source": [
    "from utils.config_loader import app_config\n",
    "from llama_index.core import Settings\n",
    "from llama_index.llms.openai import OpenAI\n",
    "from llama_index.embeddings.openai import OpenAIEmbedding\n",
    "\n",
    "from llama_index.core import SimpleDirectoryReader, VectorStoreIndex, StorageContext\n",
    "from llama_index.vector_stores.milvus import MilvusVectorStore"
   ]
  },
  {
   "cell_type": "code",
   "execution_count": 5,
   "metadata": {},
   "outputs": [
    {
     "name": "stderr",
     "output_type": "stream",
     "text": [
      "2025-04-17 04:41:43,039 [DEBUG][_create_connection]: Created new connection using: d3cece27f54b4d3c878b440bc46f19de (async_milvus_client.py:600)\n"
     ]
    }
   ],
   "source": [
    "# 1. Connect to Milvus\n",
    "milvus_store = MilvusVectorStore(\n",
    "    uri=app_config.MILVUS_URL,\n",
    "    dim=app_config.MILVUS_DIM,\n",
    "    overwrite= False,\n",
    "    collection_name=\"_emails_attachments\"\n",
    ")"
   ]
  },
  {
   "cell_type": "markdown",
   "metadata": {},
   "source": [
    "### Example 1: Using LlamaIndex to query the vector store"
   ]
  },
  {
   "cell_type": "code",
   "execution_count": 6,
   "metadata": {},
   "outputs": [],
   "source": [
    "## Step 1: Prepare global settings\n",
    "\n",
    "# Access appplication environment variables\n",
    "model = app_config.LLAMAINDEX_MODEL\n",
    "embed_model= app_config.LLAMAINDEX_EMBEDDING\n",
    "\n",
    "# define global Setting that sets the LLM and ebemdding model.\n",
    "# There is no need to pass in any llm or embedding model to the LlamaIndexTool query engine.\n",
    "# The LlamaIndexTool will use the global Settings to get the llm and embedding model.\n",
    "Settings.llm = OpenAI(temperature=0.1, model=model)\n",
    "Settings.embed_model = OpenAIEmbedding(model=embed_model)"
   ]
  },
  {
   "cell_type": "code",
   "execution_count": 7,
   "metadata": {},
   "outputs": [],
   "source": [
    "# Step 2: Load index from existing Milvus vector store\n",
    "index = VectorStoreIndex.from_vector_store(\n",
    "    vector_store=milvus_store\n",
    ")"
   ]
  },
  {
   "cell_type": "code",
   "execution_count": 8,
   "metadata": {},
   "outputs": [],
   "source": [
    "# Step 3. Create the query and chat engine using the LLM\n",
    "query_engine = index.as_query_engine()  # no parameter needed, taken care off by the global Settings\n",
    "chat_engine = index.as_chat_engine()\n"
   ]
  },
  {
   "cell_type": "code",
   "execution_count": 14,
   "metadata": {},
   "outputs": [
    {
     "name": "stdout",
     "output_type": "stream",
     "text": [
      "The terms and conditions for PT Interindo include ensuring that all necessary documentation such as commercial invoices, packing lists, and permits are prepared for shipment. It is also important to comply with the key regulations for importing and exporting in Singapore by declaring goods via TradeNet® and ensuring no restricted or prohibited goods are included. Additionally, monitoring the vessel ETA and container release status through the PortNet platform is advised to ensure smooth progress of the shipment. For further specific guidelines, reaching out directly to PT Interindo is recommended.\n"
     ]
    }
   ],
   "source": [
    "\n",
    "# Step 4A. Run your query\n",
    "question = \"what are the terms and conditions for PT_Interindo\"\n",
    "response = query_engine.query(question)\n",
    "print(response)"
   ]
  },
  {
   "cell_type": "code",
   "execution_count": 16,
   "metadata": {},
   "outputs": [
    {
     "name": "stdout",
     "output_type": "stream",
     "text": [
      "The vessel information requested by PT Interindo includes the estimated time of arrival (ETA) in Singapore on September 10, 2024, and the ETA in Jakarta.\n"
     ]
    }
   ],
   "source": [
    "question = \"what is the vessel information  PT_Interindo request\"\n",
    "response = query_engine.query(question)\n",
    "print(response)"
   ]
  }
 ],
 "metadata": {
  "kernelspec": {
   "display_name": "Python 3 (ipykernel)",
   "language": "python",
   "name": "python3"
  },
  "language_info": {
   "codemirror_mode": {
    "name": "ipython",
    "version": 3
   },
   "file_extension": ".py",
   "mimetype": "text/x-python",
   "name": "python",
   "nbconvert_exporter": "python",
   "pygments_lexer": "ipython3",
   "version": "3.10.0"
  }
 },
 "nbformat": 4,
 "nbformat_minor": 2
}
