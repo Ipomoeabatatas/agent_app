{
  "cells": [
    {
      "cell_type": "markdown",
      "metadata": {
        "id": "2KuxjO8XUeIw"
      },
      "source": [
        "<img src=\"https://www.rp.edu.sg/images/default-source/default-album/rp-logo.png\" width=\"200\" alt=\"Republic Polytechnic\"/>\n",
        "\n",
        "[![Open in Colab](https://colab.research.google.com/assets/colab-badge.svg)](https://colab.research.google.com/github/Ipomoeabatatas/ubts_day_01/blob/main/CrewAI/Activity_02_Answer.ipynb)"
      ]
    },
    {
      "cell_type": "markdown",
      "metadata": {
        "id": "TcRM3VDNYKaY"
      },
      "source": [
        "## Build Agents with access to Email system using Langchain Tools\n",
        "\n",
        "\n",
        "In this lesson, you'll deepen your understanding of tool use in multi-agent systems, focusing on tools provided by the Langchain\n",
        "framework.\n",
        "\n",
        "Building on previous concepts, you’ll learn how to equip agents and task with access to your Gmail system to perform operations such as authentication, search, draft and sending emails.\n",
        "\n",
        "\n",
        "finally, we'll also explore how this integrates with the CrewAI framework."
      ]
    },
    {
      "cell_type": "markdown",
      "metadata": {
        "id": "N618vRasXblQ"
      },
      "source": [
        "## Getting Started.\n",
        "\n",
        "This notebook is designed to work in Google Colab.\n",
        "For secret and keys, it has to be stored and accessed via the Secrets feature.\n",
        "\n",
        "**Create** a secret key OPENAI_API_KEY using the SECRET Features.\n",
        "\n",
        "![image.png](data:image/png;base64,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)"
      ]
    },
    {
      "cell_type": "markdown",
      "metadata": {
        "id": "UrcFFU0rWjzW"
      },
      "source": [
        "## Install the required projects\n"
      ]
    },
    {
      "cell_type": "code",
      "execution_count": null,
      "metadata": {
        "id": "E27yPwJK4ZBI"
      },
      "outputs": [],
      "source": [
        "!pip install --quiet crewai==0.108.0\n",
        "!pip install --quiet crewai-tools==0.40.0\n",
        "!pip install --quiet boto3  # workaround for incomplete crewai-tools dependency\n",
        "\n",
        "#needed for gmail\n",
        "!pip install --quiet google-auth google-auth-oauthlib google-auth-httplib2 google-api-python-client\n",
        "\n"
      ]
    },
    {
      "cell_type": "code",
      "execution_count": null,
      "metadata": {
        "colab": {
          "base_uri": "https://localhost:8080/"
        },
        "id": "5oT4vYgm5bXq",
        "outputId": "39bc8538-0b6e-40f1-f032-88766e6f3001"
      },
      "outputs": [],
      "source": [
        "! pip freeze | grep crewai"
      ]
    },
    {
      "cell_type": "markdown",
      "metadata": {
        "id": "63ErbRfWAZr3"
      },
      "source": [
        "Expected results:  \n",
        "![image.png](data:image/png;base64,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)"
      ]
    },
    {
      "cell_type": "code",
      "execution_count": null,
      "metadata": {
        "id": "-XlHsNRX38nO"
      },
      "outputs": [],
      "source": [
        "# Warning control\n",
        "import warnings\n",
        "warnings.filterwarnings('ignore')\n",
        "\n",
        "import os\n",
        "from datetime import datetime\n",
        "\n",
        "\n",
        "# Set variables for control\n",
        "__TODO__ = None\n",
        "timestamp = datetime.now().strftime('%Y%m%d_%H%M%S')  # e.g., 20250408_153012\n"
      ]
    },
    {
      "cell_type": "code",
      "execution_count": 9,
      "metadata": {
        "id": "5eDoXDg938nO"
      },
      "outputs": [],
      "source": [
        "#from google.colab import userdata\n",
        "from crewai import Agent, Task, Crew, LLM\n",
        "from crewai.tools import tool"
      ]
    },
    {
      "cell_type": "markdown",
      "metadata": {
        "id": "1lE48TDM4OWE"
      },
      "source": [
        "## Langchain Gmail Toolkit Setup\n",
        "\n",
        "\n",
        "The Gmail toolkit interacts with the GMail API to read messages, draft and send messages. To use this toolkit, you will need to set up your credentials as explained in the Gmail API docs (https://developers.google.com/gmail/api/quickstart/python#authorize_credentials_for_a_desktop_application).\n",
        "\n",
        "https://vijaykumarkartha.medium.com/create-your-personal-gmail-ai-agent-using-langchain-da95d1a9171a\n",
        "\n",
        "\n",
        "Once you've downloaded the credentials.json file, you should upload the credential file to the working folder(i.e. the same directory as this notebook).\n"
      ]
    },
    {
      "cell_type": "code",
      "execution_count": 2,
      "metadata": {
        "id": "Wd7YgrSLLQ30"
      },
      "outputs": [],
      "source": [
        "### **Please complete the above step before proceeding.**\n",
        "## Import relevant package\n",
        "\n",
        "from langchain_community.agent_toolkits.gmail.toolkit import GmailToolkit\n",
        "from langchain_community.tools.gmail.search import GmailSearch\n",
        "from langchain_community.tools.gmail.get_message import GmailGetMessage\n",
        "from langchain_community.tools.gmail.create_draft import GmailCreateDraft\n",
        "from langchain_community.tools.gmail.send_message import GmailSendMessage"
      ]
    },
    {
      "cell_type": "markdown",
      "metadata": {
        "id": "3_65BofzK_OF"
      },
      "source": [
        "## Instantiation\n",
        "\n",
        "By default the toolkit reads the local credentials.\n",
        "json file for authentication.\n",
        "\n",
        "Click the link to sign on to Gmail.\n",
        "\n",
        "If the authenication is successful, you will see a\n",
        "token created saved in the project folder.\n",
        "\n",
        "\n",
        "** Issue **\n",
        "This cell does not work from Notebook environment.\n",
        "\n",
        "Do the following before you run the\n",
        "Please open a terminal, and enter a Python environment.\n",
        "Copy out the link and continue with the authentication\n",
        "Python 3.10.0 (default, Mar  3 2022, 09:58:08) [GCC 7.5.0] on linux\n",
        "Type \"help\", \"copyright\", \"credits\" or \"license\" for more information.\n",
        ">>> from langchain_community.agent_toolkits.gmail.toolkit import GmailToolkit\n",
        ">>> toolkit = GmailToolkit()"
      ]
    },
    {
      "cell_type": "code",
      "execution_count": 3,
      "metadata": {
        "colab": {
          "base_uri": "https://localhost:8080/",
          "height": 359
        },
        "id": "jUyk84jf4Nre",
        "outputId": "1917c2f8-30c8-4d69-b786-f8ec9ada09e6"
      },
      "outputs": [],
      "source": [
        "gmail_tool = GmailToolkit()"
      ]
    },
    {
      "cell_type": "markdown",
      "metadata": {
        "id": "IMGzEsZvM0A2"
      },
      "source": [
        "## Tools Availability\n",
        "- GmailCreateDraft - Tool that creates a draft email for Gmail\n",
        "- GmailSendMessage - Tool that sends a message to Gmail.\n",
        "- GmailSearch - Tool that searches for messages or threads in Gmail\n",
        "- GmailGetMessage - Tool that gets a message by ID from Gmail.\n",
        "- GmailGetThread - Tool that gets a thread by ID from Gmail."
      ]
    },
    {
      "cell_type": "code",
      "execution_count": 4,
      "metadata": {
        "id": "kbC59GLsNC4k"
      },
      "outputs": [
        {
          "data": {
            "text/plain": [
              "[GmailCreateDraft(api_resource=<googleapiclient.discovery.Resource object at 0x7f54d2ffca00>),\n",
              " GmailSendMessage(api_resource=<googleapiclient.discovery.Resource object at 0x7f54d2ffca00>),\n",
              " GmailSearch(api_resource=<googleapiclient.discovery.Resource object at 0x7f54d2ffca00>),\n",
              " GmailGetMessage(api_resource=<googleapiclient.discovery.Resource object at 0x7f54d2ffca00>),\n",
              " GmailGetThread(api_resource=<googleapiclient.discovery.Resource object at 0x7f54d2ffca00>)]"
            ]
          },
          "execution_count": 4,
          "metadata": {},
          "output_type": "execute_result"
        }
      ],
      "source": [
        "tools = gmail_tool.get_tools()\n",
        "tools"
      ]
    },
    {
      "cell_type": "code",
      "execution_count": null,
      "metadata": {
        "id": "ytl6llFLFj4Y"
      },
      "outputs": [],
      "source": []
    },
    {
      "cell_type": "markdown",
      "metadata": {
        "id": "kVAMbCP_57fb"
      },
      "source": [
        "## Searching for a Email\n",
        "To search for mails, you need to instantiate a GmailSearch object and pass in the API resources that\n",
        "was returned from the authentication proess.\n",
        "\n",
        "In Gmail, search operations (also called search operators or search strings) are powerful tools that help you find specific emails quickly by applying filters based on criteria like sender, subject, labels, attachments, date, and more.\n",
        "also known as https://kinsta.com/blog/gmail-search-operators/\n",
        "\n"
      ]
    },
    {
      "cell_type": "code",
      "execution_count": 24,
      "metadata": {
        "id": "MFB0UjV0Ogo3"
      },
      "outputs": [
        {
          "name": "stdout",
          "output_type": "stream",
          "text": [
            "[{'id': '19622c43cfa11c99', 'threadId': '19622c43cfa11c99', 'snippet': 'Official (Closed) \\\\ Sensitive Normal FYA Please update on the project. Also, tell me a Apple joke. Best Regards Tan Poh Keam Senior Lecturer School of Infocomm Republic Polytechnic 9 Woodlands Ave 9,', 'body': 'Official (Closed) \\\\ Sensitive Normal\\r\\n\\r\\nFYA\\r\\n\\r\\nPlease update on the project.\\r\\nAlso, tell me a Apple joke.\\r\\n\\r\\n\\r\\nBest Regards\\r\\n\\r\\nTan Poh Keam\\r\\nSenior Lecturer\\r\\nSchool of Infocomm\\r\\n\\r\\n[cid:image001.jpg@01DBAACC.D7534310]\\r\\n\\r\\nRepublic Polytechnic\\r\\n9 Woodlands Ave 9, Singapore 738964\\r\\nDID: 6697-1277 | General Enquiries: 6510-3000\\r\\n\\r\\nwww.rp.edu.sg |  [cid:image002.png@01DBAACC.D7534310]     [cid:image003.png@01DBAACC.D7534310]    [cid:image004.png@01DBAACC.D7534310]     [cid:image005.png@01DBAACC.D7534310]     [cid:image006.png@01DBAACC.D7534310]     [cid:image007.png@01DBAACC.D7534310] \\r\\n\\r\\nCONFIDENTIALITY CAUTION: This message is intended only for the use of the individual or entity to whom it is addressed and contains information that is privileged and confidential. If you, the reader of this message, are not the intended recipient, you should not disseminate, distribute or copy this communication. If you have received this communication in error, please notify us immediately by return email and delete the original message. Thank you.\\r\\n', 'subject': 'FYA', 'sender': '\"Tan Poh Keam (RP)\" <tan_poh_keam@RP.EDU.SG>', 'from': '\"Tan Poh Keam (RP)\" <tan_poh_keam@RP.EDU.SG>', 'date': 'Fri, 11 Apr 2025 02:53:22 +0000', 'to': 'MSG UBTS <msgubts@gmail.com>', 'cc': None}, {'id': '19622affa1bdd7ba', 'threadId': '19622affa1bdd7ba', 'snippet': 'Official (Closed) \\\\ Sensitive Normal FYA Please update on the project Best Regards Tan Poh Keam Senior Lecturer School of Infocomm Republic Polytechnic 9 Woodlands Ave 9, Singapore 738964 DID: 6697-', 'body': 'Official (Closed) \\\\ Sensitive Normal\\r\\n\\r\\nFYA\\r\\n\\r\\nPlease update on the project\\r\\n\\r\\n\\r\\nBest Regards\\r\\n\\r\\nTan Poh Keam\\r\\nSenior Lecturer\\r\\nSchool of Infocomm\\r\\n\\r\\n[cid:image001.jpg@01DBAACC.D7534310]\\r\\n\\r\\nRepublic Polytechnic\\r\\n9 Woodlands Ave 9, Singapore 738964\\r\\nDID: 6697-1277 | General Enquiries: 6510-3000\\r\\n\\r\\nwww.rp.edu.sg |  [cid:image002.png@01DBAACC.D7534310]     [cid:image003.png@01DBAACC.D7534310]    [cid:image004.png@01DBAACC.D7534310]     [cid:image005.png@01DBAACC.D7534310]     [cid:image006.png@01DBAACC.D7534310]     [cid:image007.png@01DBAACC.D7534310] \\r\\n\\r\\nCONFIDENTIALITY CAUTION: This message is intended only for the use of the individual or entity to whom it is addressed and contains information that is privileged and confidential. If you, the reader of this message, are not the intended recipient, you should not disseminate, distribute or copy this communication. If you have received this communication in error, please notify us immediately by return email and delete the original message. Thank you.\\r\\n', 'subject': 'FYA', 'sender': '\"Tan Poh Keam (RP)\" <tan_poh_keam@RP.EDU.SG>', 'from': '\"Tan Poh Keam (RP)\" <tan_poh_keam@RP.EDU.SG>', 'date': 'Fri, 11 Apr 2025 02:31:12 +0000', 'to': 'MSG UBTS <msgubts@gmail.com>', 'cc': None}]\n"
          ]
        }
      ],
      "source": [
        "# Search for emails in the inbox and is unread\n",
        "search = GmailSearch(api_resource=gmail_tool.api_resource)\n",
        "emails = search.invoke('is:unread in:inbox \"FYA\" ' )\n",
        "print (emails)"
      ]
    },
    {
      "cell_type": "markdown",
      "metadata": {
        "id": "gmN7EqjMdw5a"
      },
      "source": [
        "##  Read a Message\n",
        "To search for mails, you need to instantiate a GmailGetMessage object and pass in the API resources that was returned from the authentication process.\n",
        "\n",
        "You need to pass in a message ID.\n",
        "From the previous step, update the cell below with a valid message_id"
      ]
    },
    {
      "cell_type": "code",
      "execution_count": 6,
      "metadata": {
        "id": "8xylvweodtND"
      },
      "outputs": [
        {
          "name": "stdout",
          "output_type": "stream",
          "text": [
            "{'id': '1961f709776738a2', 'threadId': '1961f6c4b2022834', 'snippet': 'A new sign-in on Windows msgubts@gmail.com We noticed a new sign-in to your Google Account on a Windows device. If this was you, you don&#39;t need to do anything. If not, we&#39;ll help you secure', 'body': '[image: Google]\\r\\nA new sign-in on Windows\\r\\n\\r\\n\\r\\nmsgubts@gmail.com\\r\\nWe noticed a new sign-in to your Google Account on a Windows device. If\\r\\nthis was you, you don’t need to do anything. If not, we’ll help you secure\\r\\nyour account.\\r\\nCheck activity\\r\\n\\r\\nYou can also see security activity at\\r\\nhttps://myaccount.google.com/notifications\\r\\nYou received this email to let you know about important changes to your\\r\\nGoogle Account and services.\\r\\n© 2025 Google LLC, 1600 Amphitheatre Parkway, Mountain View, CA 94043, USA\\r\\n', 'subject': 'Security alert', 'sender': 'Google <no-reply@accounts.google.com>'}\n"
          ]
        }
      ],
      "source": [
        "message_id = None  # to replace\n",
        "message_id = \"1961f709776738a2\"\n",
        "get_msg = GmailGetMessage(api_resource=gmail_tool.api_resource)\n",
        "message = get_msg.run(message_id)  # if it doesn't work, try invoke method\n",
        "print (message)\n"
      ]
    },
    {
      "cell_type": "markdown",
      "metadata": {
        "id": "Tu1p6KT-fd7Y"
      },
      "source": [
        "## Create a Draft Email\n",
        "\n",
        "To create a draft mail, you need to instantiate a GmailCreateDraft object and pass in the API resources that was returned from the authentication process.\n",
        "\n",
        "To create a draft email, you need to pass in a payload indicating who it need to be sent to, the subject, and message.\n",
        "\n",
        "The email will be saved in the Draft folder of the email account."
      ]
    },
    {
      "cell_type": "code",
      "execution_count": 10,
      "metadata": {
        "id": "02D53eRPfkdl"
      },
      "outputs": [
        {
          "name": "stdout",
          "output_type": "stream",
          "text": [
            "Draft created. Draft Id: r6514666115645951756\n"
          ]
        }
      ],
      "source": [
        "draft_payload = {\n",
        "            \"to\": ['someone@email.com'],\n",
        "            \"subject\": \"hello\",\n",
        "            \"message\": \"Let's go a walk\"\n",
        "        }\n",
        "\n",
        "draft = GmailCreateDraft(api_resource=gmail_tool.api_resource)\n",
        "result = draft.run(draft_payload)\n",
        "print (result)"
      ]
    },
    {
      "cell_type": "markdown",
      "metadata": {
        "id": "uepgFFIA7FXe"
      },
      "source": [
        "## Langchain Tool in CrewAI\n",
        "\n",
        "At the point of writing, for a CrewAI Agent to use the langchain tool, you need to create a personalized tool, inherit from BaseTool, or use the @tool declaration and define the necessary attributes, including the args_schema for input validation, and the _run method to run / invoke the gmail toolkit.\n",
        "\n",
        "Ref to https://docs.crewai.com/how-to/create-custom-tools#subclassing-basetool and https://docs.crewai.com/how-to/create-custom-tools#using-the-tool-decorator for further documents.\n",
        "\n"
      ]
    },
    {
      "cell_type": "markdown",
      "metadata": {
        "id": "JUKMYCwAkI5R"
      },
      "source": [
        "## Let's define the authentication tool."
      ]
    },
    {
      "cell_type": "code",
      "execution_count": null,
      "metadata": {
        "id": "pMgrAOxOj0EC"
      },
      "outputs": [],
      "source": [
        "## We can skip this as the authentication is build into\n",
        "## the subsequent tools"
      ]
    },
    {
      "cell_type": "markdown",
      "metadata": {
        "id": "8Oai1qFJkZeB"
      },
      "source": []
    },
    {
      "cell_type": "markdown",
      "metadata": {
        "id": "bCRoWcolkPKi"
      },
      "source": [
        "## Let's define the search tool."
      ]
    },
    {
      "cell_type": "code",
      "execution_count": null,
      "metadata": {
        "id": "x9e7qFXbkVez"
      },
      "outputs": [],
      "source": [
        "@tool(\"search_gmail\")\n",
        "def search_gmail(query: str):\n",
        "      \"\"\"\n",
        "      Useful for searching for gmails based on a search string\n",
        "      The input should be a valid Gmail search string\n",
        "      Use the default 'is:unread in:inbox \"FYA\"  '.\n",
        "      \"\"\"\n",
        "      try:\n",
        "            gmail = GmailToolkit()  # custom GmailToolkit\n",
        "      except Exception as e:\n",
        "            return f\"Failed to authenticate Gmail: {e}\"\n",
        "\n",
        "      search_tool = GmailSearch(api_resource=gmail.api_resource)\n",
        "      result = search_tool.invoke(query)\n",
        "\n",
        "      return f\"\\nSearch details: {result}\\n\"\n",
        "\n"
      ]
    },
    {
      "cell_type": "markdown",
      "metadata": {
        "id": "Tpp8SbljkV-j"
      },
      "source": [
        "## Let's define the get message tool."
      ]
    },
    {
      "cell_type": "code",
      "execution_count": 31,
      "metadata": {
        "id": "TrMqAdmBka4a"
      },
      "outputs": [],
      "source": [
        "@tool(\"get_message\")\n",
        "def get_message(message_id: str):\n",
        "      \"\"\"\n",
        "      Useful for retrieving an full meesage  from Gmail.\n",
        "      The input should be a valid Gmail message id.\n",
        "      For example, `18923fda12e3a4b1`.\n",
        "      \"\"\"\n",
        "      try:\n",
        "            gmail = GmailToolkit()  # custom GmailToolkit\n",
        "      except Exception as e:\n",
        "            return f\"Failed to authenticate Gmail: {e}\"\n",
        "\n",
        "      thread_tool = GmailGetMessage(api_resource=gmail.api_resource)\n",
        "      result = thread_tool.run(message_id)\n",
        "\n",
        "      return f\"\\nMessage details: {result}\\n\""
      ]
    },
    {
      "cell_type": "markdown",
      "metadata": {
        "id": "dzw5RZFWkbbS"
      },
      "source": [
        "## Let's define the create draft tool\n",
        "\n",
        "We will use the XX method as we need to be be strictly in the parameters in order for the\n",
        "tool to work properly"
      ]
    },
    {
      "cell_type": "code",
      "execution_count": 13,
      "metadata": {
        "id": "rIhJUEgCkkJJ"
      },
      "outputs": [],
      "source": [
        "from pydantic import BaseModel, Field\n",
        "from crewai.tools import BaseTool\n",
        "\n",
        "class CreateDraftInput(BaseModel):\n",
        "    email: str = Field(..., description=\"Recipient's email address\")\n",
        "    subject: str = Field(..., description=\"subject description\")\n",
        "    body: str = Field(..., description=\"draf email body content\")\n",
        "\n",
        "class CreateDraftTool(BaseTool):\n",
        "    name: str = \"create_draft\"\n",
        "    description: str = \"Useful to create an email draft.\"\n",
        "    args_schema: type[BaseModel] = CreateDraftInput\n",
        "\n",
        "    def _run(self, email: str, subject: str, body: str) -> str :\n",
        "        try:\n",
        "          gmail = GmailToolkit()\n",
        "        except Exception as e:\n",
        "          return f\"Failed to authenticate Gmail: {e}\"\n",
        "        # Create draft payload\n",
        "        draft_payload = {\n",
        "            \"to\": [email],\n",
        "            \"subject\": subject,\n",
        "            \"message\": body\n",
        "        }\n",
        "        # Attempt to create the draft\n",
        "        try:\n",
        "            draft = GmailCreateDraft(api_resource=gmail.api_resource)\n",
        "            result = draft.run(draft_payload)\n",
        "            return f\"Draft created successfully: {result}\"\n",
        "        except Exception as e:\n",
        "            return f\"Error creating draft: {str(e)}\"\n"
      ]
    },
    {
      "cell_type": "markdown",
      "metadata": {
        "id": "BN8w1ZWzkx6E"
      },
      "source": [
        "## Finally, let's instantiate the tools\n"
      ]
    },
    {
      "cell_type": "code",
      "execution_count": 52,
      "metadata": {
        "id": "2hoX08seXp0A"
      },
      "outputs": [],
      "source": [
        "mail_search_tool = search_gmail\n",
        "mail_get_msg_tool = get_message\n",
        "mail_draft_tool = CreateDraftTool()"
      ]
    },
    {
      "cell_type": "markdown",
      "metadata": {
        "id": "GUnCysxGRUA8"
      },
      "source": [
        "## Define the LLM For The Agent\n",
        "In the example below, OpenAI is used. We can either\n",
        "set the connection information through the environment variables,\n",
        "or directly input as a parameter in the LLM class."
      ]
    },
    {
      "cell_type": "code",
      "execution_count": null,
      "metadata": {
        "id": "VFiH3OeQ6vTC"
      },
      "outputs": [],
      "source": [
        "from google.colab import userdata\n",
        "os.environ[\"OPENAI_API_KEY\"] = userdata.get('OPENAI_API_KEY')\n",
        "#os.environ[\"OPENAI_MODEL_NAME\"] = 'gpt-3.5-turbo'\n",
        "\n",
        "llm = LLM(model=\"openai/gpt-4o\",  # try replace with gpt-4o-mini\n",
        "          api_key=userdata.get('OPENAI_API_KEY')\n",
        ")\n"
      ]
    },
    {
      "cell_type": "code",
      "execution_count": 14,
      "metadata": {},
      "outputs": [],
      "source": [
        "llm = LLM(model=\"openai/gpt-4o\")  # try replace with gpt-4o-mini\n"
      ]
    },
    {
      "cell_type": "markdown",
      "metadata": {
        "id": "ulJZnKlm38nP"
      },
      "source": [
        "## Creating Agents\n",
        "\n",
        "- Define your Agents, and provide them a `role`, `goal` and `backstory`.\n",
        "- It has been seen that LLMs perform better when they are role playing.\n",
        "\n",
        "This crew will have 1 agent, performing 3 tasks.\n",
        "* search_agent:\n",
        "* read_msg_agent:\n",
        "* draft_reply_agent:\n"
      ]
    },
    {
      "cell_type": "markdown",
      "metadata": {
        "id": "Eh9RaD0BJAOU"
      },
      "source": [
        "## Define the agent\n"
      ]
    },
    {
      "cell_type": "code",
      "execution_count": 53,
      "metadata": {
        "id": "xQG_ieHH38nP"
      },
      "outputs": [
        {
          "name": "stdout",
          "output_type": "stream",
          "text": [
            "LLM value is already an LLM object\n"
          ]
        }
      ],
      "source": [
        "gmail_agent = Agent(\n",
        "    role=\"Gmail Assistant\",\n",
        "    goal=\"Search Gmail, read a thread, and draft a reply email automatically\",\n",
        "    backstory=\"You're a Gmail productivity bot that helps users manage emails end-to-end.\",\n",
        "    tools= [mail_search_tool, mail_get_msg_tool, mail_draft_tool],\n",
        "    verbose=True,\n",
        "    llm=llm,\n",
        ")\n"
      ]
    },
    {
      "cell_type": "markdown",
      "metadata": {
        "id": "YH_3CmRi38nP"
      },
      "source": [
        "## Creating Tasks\n",
        "\n",
        "- Define your Tasks, and provide them a `description`, `expected_output` and `agent`."
      ]
    },
    {
      "cell_type": "code",
      "execution_count": 63,
      "metadata": {
        "id": "QKHRm0N038nQ"
      },
      "outputs": [],
      "source": [
        "\n",
        "# --------------------------\n",
        "# Define Tasks\n",
        "# --------------------------\n",
        "search_task = Task(\n",
        "    description=\"Search Gmail for unread email in the inbox.\"\n",
        "                \"Narroww the search for key word or phrase such as FYA or 'For Your Action'.\"\n",
        "                \"Use the search string 'is:unread in:inbox FYA 'For Your Action.\",\n",
        "    expected_output=\"A list of Gmail message id.\",\n",
        "    verbose=True,\n",
        "    agent=gmail_agent\n",
        ")\n",
        "\n",
        "read_task = Task(\n",
        "    description=\"Read a mail based on the email returned from prior task.\"\n",
        "                 \"Summarize it.\",\n",
        "    expected_output=\"A 3-sentence summary of the email.\",\n",
        "    verbose=True,\n",
        "    agent=gmail_agent\n",
        ")\n",
        "\n",
        "draft_task = Task(\n",
        "    description=\"Draft a reply email .\"\n",
        "                \"The reply should include a summary of the request\"\n",
        "                \"and a confirmation that the request has been received.\"\n",
        "                \"The reply should be polite and professional, and concise.\"\n",
        "                \"The reply should be signed with your name ALI SHAN.\"\n",
        "                \"Send the draft to originating email address with subject about your request'.\",\n",
        "    expected_output=\"A draft email created via Gmail Toolkit.\",\n",
        "    verbose=True,\n",
        "    agent=gmail_agent\n",
        ")\n",
        "\n"
      ]
    },
    {
      "cell_type": "markdown",
      "metadata": {
        "id": "cWR2FYG938nQ"
      },
      "source": [
        "## Creating the Crew\n",
        "\n",
        "- Create your crew of Agents\n",
        "- Pass the tasks to be performed by those agents.\n",
        "    - **Note**: *For this simple example*, the tasks will be performed sequentially (i.e they are dependent on each other), so the _order_ of the task in the list _matters_.\n",
        "- `verbose=True` allows you to see all the logs of the execution. Default is false"
      ]
    },
    {
      "cell_type": "code",
      "execution_count": 64,
      "metadata": {
        "id": "4RAf5OsI38nQ"
      },
      "outputs": [],
      "source": [
        "# --------------------------\n",
        "# Crew Setup\n",
        "# --------------------------\n",
        "crew = Crew(\n",
        "    agents=[gmail_agent],\n",
        "    tasks=[search_task, read_task, draft_task],\n",
        "    verbose=True\n",
        ")"
      ]
    },
    {
      "cell_type": "markdown",
      "metadata": {
        "id": "zX5KJqWa38nQ"
      },
      "source": [
        "## Running the Crew"
      ]
    },
    {
      "cell_type": "markdown",
      "metadata": {
        "id": "f4qE9y_438nQ"
      },
      "source": [
        "**Note**: LLMs can provide different outputs for they same input, so what you get might be different than what you see in the video.\n",
        "\n",
        "The reply will be saved to a file, as defined within the task."
      ]
    },
    {
      "cell_type": "code",
      "execution_count": 65,
      "metadata": {
        "id": "ud5MVQ0k38nQ"
      },
      "outputs": [
        {
          "name": "stdout",
          "output_type": "stream",
          "text": [
            "\u001b[1m\u001b[95m# Agent:\u001b[00m \u001b[1m\u001b[92mGmail Assistant\u001b[00m\n",
            "\u001b[95m## Task:\u001b[00m \u001b[92mSearch Gmail for unread email in the inbox.Narroww the search for key word or phrase such as FYA or 'For Your Action'.Use the search string 'is:unread in:inbox FYA 'For Your Action.\u001b[00m\n",
            "\n",
            "\n",
            "\u001b[1m\u001b[95m# Agent:\u001b[00m \u001b[1m\u001b[92mGmail Assistant\u001b[00m\n",
            "\u001b[95m## Thought:\u001b[00m \u001b[92mThought: I will begin by searching Gmail using the provided search string \"is:unread in:inbox FYA\" to locate relevant unread emails that need action.\u001b[00m\n",
            "\u001b[95m## Using tool:\u001b[00m \u001b[92msearch_gmail\u001b[00m\n",
            "\u001b[95m## Tool Input:\u001b[00m \u001b[92m\n",
            "\"{\\\"query\\\": \\\"is:unread in:inbox FYA\\\"}\"\u001b[00m\n",
            "\u001b[95m## Tool Output:\u001b[00m \u001b[92m\n",
            "\n",
            "Search details: [{'id': '19622c43cfa11c99', 'threadId': '19622c43cfa11c99', 'snippet': 'Official (Closed) \\\\ Sensitive Normal FYA Please update on the project. Also, tell me a Apple joke. Best Regards Tan Poh Keam Senior Lecturer School of Infocomm Republic Polytechnic 9 Woodlands Ave 9,', 'body': 'Official (Closed) \\\\ Sensitive Normal\\r\\n\\r\\nFYA\\r\\n\\r\\nPlease update on the project.\\r\\nAlso, tell me a Apple joke.\\r\\n\\r\\n\\r\\nBest Regards\\r\\n\\r\\nTan Poh Keam\\r\\nSenior Lecturer\\r\\nSchool of Infocomm\\r\\n\\r\\n[cid:image001.jpg@01DBAACC.D7534310]\\r\\n\\r\\nRepublic Polytechnic\\r\\n9 Woodlands Ave 9, Singapore 738964\\r\\nDID: 6697-1277 | General Enquiries: 6510-3000\\r\\n\\r\\nwww.rp.edu.sg |  [cid:image002.png@01DBAACC.D7534310]     [cid:image003.png@01DBAACC.D7534310]    [cid:image004.png@01DBAACC.D7534310]     [cid:image005.png@01DBAACC.D7534310]     [cid:image006.png@01DBAACC.D7534310]     [cid:image007.png@01DBAACC.D7534310] \\r\\n\\r\\nCONFIDENTIALITY CAUTION: This message is intended only for the use of the individual or entity to whom it is addressed and contains information that is privileged and confidential. If you, the reader of this message, are not the intended recipient, you should not disseminate, distribute or copy this communication. If you have received this communication in error, please notify us immediately by return email and delete the original message. Thank you.\\r\\n', 'subject': 'FYA', 'sender': '\"Tan Poh Keam (RP)\" <tan_poh_keam@RP.EDU.SG>', 'from': '\"Tan Poh Keam (RP)\" <tan_poh_keam@RP.EDU.SG>', 'date': 'Fri, 11 Apr 2025 02:53:22 +0000', 'to': 'MSG UBTS <msgubts@gmail.com>', 'cc': None}]\n",
            "\u001b[00m\n",
            "\n",
            "\n",
            "\u001b[1m\u001b[95m# Agent:\u001b[00m \u001b[1m\u001b[92mGmail Assistant\u001b[00m\n",
            "\u001b[95m## Final Answer:\u001b[00m \u001b[92m\n",
            "19622c43cfa11c99\u001b[00m\n",
            "\n",
            "\n",
            "\u001b[1m\u001b[95m# Agent:\u001b[00m \u001b[1m\u001b[92mGmail Assistant\u001b[00m\n",
            "\u001b[95m## Task:\u001b[00m \u001b[92mRead a mail based on the email returned from prior task.Summarize it.\u001b[00m\n",
            "\n",
            "\n",
            "\u001b[1m\u001b[95m# Agent:\u001b[00m \u001b[1m\u001b[92mGmail Assistant\u001b[00m\n",
            "\u001b[95m## Using tool:\u001b[00m \u001b[92mget_message\u001b[00m\n",
            "\u001b[95m## Tool Input:\u001b[00m \u001b[92m\n",
            "\"{\\\"message_id\\\": \\\"19622c43cfa11c99\\\"}\"\u001b[00m\n",
            "\u001b[95m## Tool Output:\u001b[00m \u001b[92m\n",
            "\n",
            "Message details: {'id': '19622c43cfa11c99', 'threadId': '19622c43cfa11c99', 'snippet': 'Official (Closed) \\\\ Sensitive Normal FYA Please update on the project. Also, tell me a Apple joke. Best Regards Tan Poh Keam Senior Lecturer School of Infocomm Republic Polytechnic 9 Woodlands Ave 9,', 'body': 'Official (Closed) \\\\ Sensitive Normal\\r\\n\\r\\nFYA\\r\\n\\r\\nPlease update on the project.\\r\\nAlso, tell me a Apple joke.\\r\\n\\r\\n\\r\\nBest Regards\\r\\n\\r\\nTan Poh Keam\\r\\nSenior Lecturer\\r\\nSchool of Infocomm\\r\\n\\r\\n[cid:image001.jpg@01DBAACC.D7534310]\\r\\n\\r\\nRepublic Polytechnic\\r\\n9 Woodlands Ave 9, Singapore 738964\\r\\nDID: 6697-1277 | General Enquiries: 6510-3000\\r\\n\\r\\nwww.rp.edu.sg |  [cid:image002.png@01DBAACC.D7534310]     [cid:image003.png@01DBAACC.D7534310]    [cid:image004.png@01DBAACC.D7534310]     [cid:image005.png@01DBAACC.D7534310]     [cid:image006.png@01DBAACC.D7534310]     [cid:image007.png@01DBAACC.D7534310] \\r\\n\\r\\nCONFIDENTIALITY CAUTION: This message is intended only for the use of the individual or entity to whom it is addressed and contains information that is privileged and confidential. If you, the reader of this message, are not the intended recipient, you should not disseminate, distribute or copy this communication. If you have received this communication in error, please notify us immediately by return email and delete the original message. Thank you.\\r\\n', 'subject': 'FYA', 'sender': '\"Tan Poh Keam (RP)\" <tan_poh_keam@RP.EDU.SG>'}\n",
            "\u001b[00m\n",
            "\n",
            "\n",
            "\u001b[1m\u001b[95m# Agent:\u001b[00m \u001b[1m\u001b[92mGmail Assistant\u001b[00m\n",
            "\u001b[95m## Final Answer:\u001b[00m \u001b[92m\n",
            "Tan Poh Keam, a Senior Lecturer at the School of Infocomm, Republic Polytechnic, sent an email requesting a project update and asked for an Apple joke. The email also emphasizes the confidentiality of its contents. Contact details and a confidentiality caution are included in the message.\n",
            "```\u001b[00m\n",
            "\n",
            "\n",
            "\u001b[1m\u001b[95m# Agent:\u001b[00m \u001b[1m\u001b[92mGmail Assistant\u001b[00m\n",
            "\u001b[95m## Task:\u001b[00m \u001b[92mDraft a reply email .The reply should include a summary of the requestand a confirmation that the request has been received.The reply should be polite and professional, and concise.The reply should be signed with your name ALI SHAN.Send the draft to originating email address with subject about your request'.\u001b[00m\n",
            "\n",
            "\n",
            "\u001b[1m\u001b[95m# Agent:\u001b[00m \u001b[1m\u001b[92mGmail Assistant\u001b[00m\n",
            "\u001b[95m## Using tool:\u001b[00m \u001b[92msearch_gmail\u001b[00m\n",
            "\u001b[95m## Tool Input:\u001b[00m \u001b[92m\n",
            "\"{\\\"query\\\": \\\"is:unread in:inbox \\\\\\\"FYA\\\\\\\"\\\"}\"\u001b[00m\n",
            "\u001b[95m## Tool Output:\u001b[00m \u001b[92m\n",
            "\n",
            "Search details: [{'id': '19622c43cfa11c99', 'threadId': '19622c43cfa11c99', 'snippet': 'Official (Closed) \\\\ Sensitive Normal FYA Please update on the project. Also, tell me a Apple joke. Best Regards Tan Poh Keam Senior Lecturer School of Infocomm Republic Polytechnic 9 Woodlands Ave 9,', 'body': 'Official (Closed) \\\\ Sensitive Normal\\r\\n\\r\\nFYA\\r\\n\\r\\nPlease update on the project.\\r\\nAlso, tell me a Apple joke.\\r\\n\\r\\n\\r\\nBest Regards\\r\\n\\r\\nTan Poh Keam\\r\\nSenior Lecturer\\r\\nSchool of Infocomm\\r\\n\\r\\n[cid:image001.jpg@01DBAACC.D7534310]\\r\\n\\r\\nRepublic Polytechnic\\r\\n9 Woodlands Ave 9, Singapore 738964\\r\\nDID: 6697-1277 | General Enquiries: 6510-3000\\r\\n\\r\\nwww.rp.edu.sg |  [cid:image002.png@01DBAACC.D7534310]     [cid:image003.png@01DBAACC.D7534310]    [cid:image004.png@01DBAACC.D7534310]     [cid:image005.png@01DBAACC.D7534310]     [cid:image006.png@01DBAACC.D7534310]     [cid:image007.png@01DBAACC.D7534310] \\r\\n\\r\\nCONFIDENTIALITY CAUTION: This message is intended only for the use of the individual or entity to whom it is addressed and contains information that is privileged and confidential. If you, the reader of this message, are not the intended recipient, you should not disseminate, distribute or copy this communication. If you have received this communication in error, please notify us immediately by return email and delete the original message. Thank you.\\r\\n', 'subject': 'FYA', 'sender': '\"Tan Poh Keam (RP)\" <tan_poh_keam@RP.EDU.SG>', 'from': '\"Tan Poh Keam (RP)\" <tan_poh_keam@RP.EDU.SG>', 'date': 'Fri, 11 Apr 2025 02:53:22 +0000', 'to': 'MSG UBTS <msgubts@gmail.com>', 'cc': None}]\n",
            "\u001b[00m\n",
            "\n",
            "\n",
            "\u001b[1m\u001b[95m# Agent:\u001b[00m \u001b[1m\u001b[92mGmail Assistant\u001b[00m\n",
            "\u001b[95m## Using tool:\u001b[00m \u001b[92mcreate_draft\u001b[00m\n",
            "\u001b[95m## Tool Input:\u001b[00m \u001b[92m\n",
            "\"{\\\"email\\\": \\\"tan_poh_keam@RP.EDU.SG\\\", \\\"subject\\\": \\\"Re: FYA - about your request\\\", \\\"body\\\": \\\"Dear Tan Poh Keam,\\\\n\\\\nThank you for reaching out to me regarding the project update.\\\\nI wanted to confirm that I have received your request and will be looking into the project details promptly.\\\\n\\\\nAs for your request for an Apple joke:\\\\nWhy did the apple stop in the middle of the road? Because it ran out of juice!\\\\n\\\\nI will get back to you with the updates as soon as possible.\\\\nIf you have any more questions or further information, please feel free to reach out.\\\\n\\\\nThank you and have a great day!\\\\n\\\\nBest regards,\\\\nAli Shan\\\"}\"\u001b[00m\n",
            "\u001b[95m## Tool Output:\u001b[00m \u001b[92m\n",
            "Draft created successfully: Draft created. Draft Id: r-4489188563289613318\u001b[00m\n",
            "\n",
            "\n",
            "\u001b[1m\u001b[95m# Agent:\u001b[00m \u001b[1m\u001b[92mGmail Assistant\u001b[00m\n",
            "\u001b[95m## Final Answer:\u001b[00m \u001b[92m\n",
            "Draft email created successfully. The content of the draft is as follows:\n",
            "\n",
            "Dear Tan Poh Keam,\n",
            "\n",
            "Thank you for reaching out to me regarding the project update.\n",
            "I wanted to confirm that I have received your request and will be looking into the project details promptly.\n",
            "\n",
            "As for your request for an Apple joke:\n",
            "Why did the apple stop in the middle of the road? Because it ran out of juice!\n",
            "\n",
            "I will get back to you with the updates as soon as possible.\n",
            "If you have any more questions or further information, please feel free to reach out.\n",
            "\n",
            "Thank you and have a great day!\n",
            "\n",
            "Best regards,\n",
            "Ali Shan\n",
            "```\u001b[00m\n",
            "\n",
            "\n"
          ]
        }
      ],
      "source": [
        "result = crew.kickoff(inputs=None)"
      ]
    },
    {
      "cell_type": "markdown",
      "metadata": {
        "id": "ri2U37lp38nQ"
      },
      "source": [
        "- Display the results of your execution as markdown in the notebook.\n",
        "- You may notice that the Agent have successful make queries against the private data source. However, it may have also tapped on its own knowledge.\n",
        "As a challenge, iterate on the task and agent instructions."
      ]
    },
    {
      "cell_type": "code",
      "execution_count": null,
      "metadata": {
        "id": "aOv80Riu38nQ"
      },
      "outputs": [],
      "source": [
        "from IPython.display import Markdown\n",
        "Markdown(result.raw)"
      ]
    },
    {
      "cell_type": "markdown",
      "metadata": {
        "id": "CfjCi7rL6nBs"
      },
      "source": [
        "## Additional Activities\n",
        "\n",
        "1. Find additional documents\n",
        "2. Copy into the private_data folder\n",
        "3. Update the Simple Directory to accept the new file types\n",
        "4. Modify question set."
      ]
    }
  ],
  "metadata": {
    "colab": {
      "gpuType": "T4",
      "provenance": []
    },
    "kernelspec": {
      "display_name": "Python 3 (ipykernel)",
      "language": "python",
      "name": "python3"
    },
    "language_info": {
      "codemirror_mode": {
        "name": "ipython",
        "version": 3
      },
      "file_extension": ".py",
      "mimetype": "text/x-python",
      "name": "python",
      "nbconvert_exporter": "python",
      "pygments_lexer": "ipython3",
      "version": "3.10.0"
    }
  },
  "nbformat": 4,
  "nbformat_minor": 0
}
