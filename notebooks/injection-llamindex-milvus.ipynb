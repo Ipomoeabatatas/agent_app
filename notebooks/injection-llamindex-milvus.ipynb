{
 "cells": [
  {
   "cell_type": "code",
   "execution_count": 2,
   "metadata": {},
   "outputs": [],
   "source": [
    "DATABASE_NAME = \"milvus_ubts\"\n",
    "\n",
    "# define collection name\n",
    "#COLLECTION_NAME = \"KASEJKT032248\"\n",
    "COLLECTION_NAME = \"F45451345A\"\n",
    "\n",
    "# host\n",
    "HOST_IP = \"172.20.140.34\"\n",
    "PORT = 19530\n",
    "\n",
    "#INIT_DIR = \"output/export/KASEJKT032248/2503030938\"\n",
    "INIT_DIR = \"home/tanpohkeam/ubts/msg_app/outputs/export/F45451345A/250310-085456\"\n",
    "INIT_DIR = \"/home/tanpohkeam/ubts/msg_app/outputs/export/F45451345A/250310-085456\""
   ]
  }
 ],
 "metadata": {
  "kernelspec": {
   "display_name": "Python 3 (ipykernel)",
   "language": "python",
   "name": "python3"
  }
 },
 "nbformat": 4,
 "nbformat_minor": 2
}
