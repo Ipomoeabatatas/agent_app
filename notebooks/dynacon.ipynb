{
 "cells": [
  {
   "cell_type": "code",
   "execution_count": 3,
   "metadata": {},
   "outputs": [
    {
     "name": "stdout",
     "output_type": "stream",
     "text": [
      "TOML file found.\n",
      "{'default': {'app_home': './', 'log_directory': '@format {app_home}/logs/'}, 'runtime_settings': {'debug_mode': True, 'max_worker_threads': 4, 'log_level': 'INFO'}, 'database_settings': {'use_database': False}}\n"
     ]
    }
   ],
   "source": [
    "#from dynaconf import Dynaconf\n",
    "#from pathlib import Path\n",
    "import os\n",
    "import tomli\n",
    "\n",
    "app_config_file = \"../configs/app_config.toml\"\n",
    "if not os.path.exists(app_config_file):\n",
    "    print(\"TOML file not found!\")\n",
    "else:\n",
    "    print(\"TOML file found.\")\n",
    "    \n",
    "with open(app_config_file, mode=\"rb\") as fp:\n",
    "     config = tomli.load(fp)\n",
    "\n",
    "     \n",
    "print(config)\n"
   ]
  },
  {
   "cell_type": "code",
   "execution_count": null,
   "metadata": {},
   "outputs": [
    {
     "name": "stdout",
     "output_type": "stream",
     "text": [
      "{'default': {'app_home': './', 'log_directory': '@format {app_home}/logs/'}, 'runtime_settings': {'debug_mode': True, 'max_worker_threads': 4, 'log_level': 'INFO'}, 'database_settings': {'use_database': False}}\n"
     ]
    }
   ],
   "source": []
  },
  {
   "cell_type": "code",
   "execution_count": null,
   "metadata": {},
   "outputs": [],
   "source": []
  },
  {
   "cell_type": "code",
   "execution_count": null,
   "metadata": {},
   "outputs": [],
   "source": []
  }
 ],
 "metadata": {
  "kernelspec": {
   "display_name": "ubts",
   "language": "python",
   "name": "python3"
  },
  "language_info": {
   "codemirror_mode": {
    "name": "ipython",
    "version": 3
   },
   "file_extension": ".py",
   "mimetype": "text/x-python",
   "name": "python",
   "nbconvert_exporter": "python",
   "pygments_lexer": "ipython3",
   "version": "3.10.0"
  }
 },
 "nbformat": 4,
 "nbformat_minor": 2
}
